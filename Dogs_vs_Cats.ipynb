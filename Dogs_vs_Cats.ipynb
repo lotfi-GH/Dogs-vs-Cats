{
 "cells": [
  {
   "cell_type": "code",
   "execution_count": 1,
   "metadata": {},
   "outputs": [],
   "source": [
    "import matplotlib.pyplot as plt\n",
    "import numpy as np\n",
    "import os\n",
    "import cv2\n",
    "import random\n",
    "import pickle\n",
    "\n",
    "import tensorflow as tf \n",
    "\n",
    "from tensorflow.keras.models import Sequential\n",
    "from tensorflow.keras.layers import Dense,Dropout,Activation,Flatten,Conv2D,MaxPooling2D"
   ]
  },
  {
   "cell_type": "code",
   "execution_count": 2,
   "metadata": {},
   "outputs": [],
   "source": [
    "#LOAD THE DATA\n",
    "\n",
    "pickle_in=open(\"X.pickle\",\"rb\")\n",
    "X=pickle.load(pickle_in)\n",
    "\n",
    "pickle_in=open(\"Y.pickle\",\"rb\")\n",
    "Y=pickle.load(pickle_in)\n",
    "\n",
    "X=np.array(X)\n",
    "Y=np.array(Y)\n",
    "X=X/255.0"
   ]
  },
  {
   "cell_type": "code",
   "execution_count": 5,
   "metadata": {},
   "outputs": [
    {
     "name": "stdout",
     "output_type": "stream",
     "text": [
      "Epoch 1/10\n",
      "624/624 [==============================] - 1298s 2s/step - loss: 0.7092 - accuracy: 0.6718 - val_loss: 0.6758 - val_accuracy: 0.6196\n",
      "Epoch 2/10\n",
      "624/624 [==============================] - 1121s 2s/step - loss: 0.4245 - accuracy: 0.8044 - val_loss: 2.2786 - val_accuracy: 0.5134\n",
      "Epoch 3/10\n",
      "624/624 [==============================] - 1169s 2s/step - loss: 0.3194 - accuracy: 0.8638 - val_loss: 0.3442 - val_accuracy: 0.8517\n",
      "Epoch 4/10\n",
      "624/624 [==============================] - 1410s 2s/step - loss: 0.2500 - accuracy: 0.8939 - val_loss: 0.3670 - val_accuracy: 0.8407\n",
      "Epoch 5/10\n",
      "624/624 [==============================] - 1460s 2s/step - loss: 0.2015 - accuracy: 0.9177 - val_loss: 0.3536 - val_accuracy: 0.8577\n",
      "Epoch 6/10\n",
      "624/624 [==============================] - 1472s 2s/step - loss: 0.1633 - accuracy: 0.9335 - val_loss: 0.3639 - val_accuracy: 0.8415\n",
      "Epoch 7/10\n",
      "624/624 [==============================] - 1320s 2s/step - loss: 0.1347 - accuracy: 0.9480 - val_loss: 0.3905 - val_accuracy: 0.8563\n",
      "Epoch 8/10\n",
      "624/624 [==============================] - 1142s 2s/step - loss: 0.1050 - accuracy: 0.9598 - val_loss: 0.3746 - val_accuracy: 0.8687\n",
      "Epoch 9/10\n",
      "624/624 [==============================] - 1164s 2s/step - loss: 0.0929 - accuracy: 0.9643 - val_loss: 0.4518 - val_accuracy: 0.8774\n",
      "Epoch 10/10\n",
      "624/624 [==============================] - 1216s 2s/step - loss: 0.0739 - accuracy: 0.9730 - val_loss: 0.5902 - val_accuracy: 0.8655\n"
     ]
    },
    {
     "data": {
      "text/plain": [
       "<tensorflow.python.keras.callbacks.History at 0x193dfb38>"
      ]
     },
     "execution_count": 5,
     "metadata": {},
     "output_type": "execute_result"
    }
   ],
   "source": [
    "#MODEL\n",
    "\n",
    "model=Sequential()\n",
    "model.add(Conv2D(64,(3,3),input_shape=X.shape[1:]))\n",
    "model.add(Activation(\"relu\"))\n",
    "model.add(tf.keras.layers.BatchNormalization())\n",
    "model.add(MaxPooling2D(pool_size=(2,2)))\n",
    "\n",
    "\n",
    "model.add(Conv2D(128,(3,3)))\n",
    "model.add(Activation(\"relu\"))\n",
    "model.add(tf.keras.layers.BatchNormalization())\n",
    "model.add(Dropout(.1))\n",
    "model.add(MaxPooling2D(pool_size=(2,2)))\n",
    "\n",
    "\n",
    "model.add(Conv2D(256,(3,3)))\n",
    "model.add(Activation(\"relu\"))\n",
    "model.add(tf.keras.layers.BatchNormalization())\n",
    "model.add(Dropout(.1))\n",
    "model.add(MaxPooling2D(pool_size=(2,2)))\n",
    "\n",
    "\n",
    "model.add(Conv2D(512,(3,3)))\n",
    "model.add(Activation(\"relu\"))\n",
    "model.add(tf.keras.layers.BatchNormalization())\n",
    "model.add(Dropout(.15))\n",
    "model.add(MaxPooling2D(pool_size=(2,2)))\n",
    "\n",
    "\n",
    "\n",
    "model.add(Flatten())\n",
    "model.add(Dense(1024))\n",
    "model.add(Activation(\"relu\"))\n",
    "model.add(Dropout(.2))\n",
    "\n",
    "\n",
    "model.add(Dense(1))\n",
    "model.add(Activation(\"sigmoid\"))\n",
    "\n",
    "model.compile(optimizer='adam',\n",
    "             loss='binary_crossentropy',\n",
    "             metrics=['accuracy'])\n",
    "\n",
    "model.fit(X,Y,batch_size=32,epochs=10,validation_split=0.2)\n"
   ]
  },
  {
   "cell_type": "code",
   "execution_count": 6,
   "metadata": {},
   "outputs": [],
   "source": [
    "#TEST\n",
    "\n",
    "IMG_SIZE=80\n",
    "def prepare(filepath):\n",
    "    img_array=cv2.imread(filepath,cv2.IMREAD_GRAYSCALE)\n",
    "    new_array=cv2.resize(img_array,(IMG_SIZE,IMG_SIZE))\n",
    "    return new_array.reshape(-1,IMG_SIZE,IMG_SIZE,1)\n",
    "CATEGORIES = [\"Dog\",\"Cat\"]\n",
    "pred=model.predict([prepare('test/cat1.jpg')])\n",
    "print(CATEGORIES[int(pred[0][0])])"
   ]
  }
 ],
 "metadata": {
  "kernelspec": {
   "display_name": "Python 3",
   "language": "python",
   "name": "python3"
  },
  "language_info": {
   "codemirror_mode": {
    "name": "ipython",
    "version": 3
   },
   "file_extension": ".py",
   "mimetype": "text/x-python",
   "name": "python",
   "nbconvert_exporter": "python",
   "pygments_lexer": "ipython3",
   "version": "3.7.3"
  }
 },
 "nbformat": 4,
 "nbformat_minor": 2
}
